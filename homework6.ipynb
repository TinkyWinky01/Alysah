{
 "cells": [
  {
   "cell_type": "code",
   "execution_count": 4,
   "id": "d26aba76-2f5c-419c-b70c-24959b00f589",
   "metadata": {},
   "outputs": [
    {
     "name": "stdout",
     "output_type": "stream",
     "text": [
      "original array: [20 27  9 12 31 17  4 50 39 35]\n",
      "array multiplied by 4: [ 80 108  36  48 124  68  16 200 156 140]\n",
      "mean 24.4\n",
      "median 23.5\n",
      "standard deviation\n",
      "index of smallest value: 6\n",
      "index of largest value: 7\n",
      "smallest value from index: 4\n",
      "largest value from index: 50\n",
      "np.min() value: 4\n",
      "np.max() value: 50\n",
      "do they match: True\n",
      "values greater than 20: [27 31 50 39 35]\n"
     ]
    }
   ],
   "source": [
    "import numpy as np\n",
    "list = [20,27,9,12,31,17,4,50,39,35]\n",
    "arr = np.array(list)\n",
    "print(\"original array:\", arr)\n",
    "arr_times4 = arr * 4\n",
    "print(\"array multiplied by 4:\", arr_times4)\n",
    "mean_val = np.mean(arr)\n",
    "print(\"mean\", mean_val)\n",
    "median_val = np.median(arr)\n",
    "print(\"median\", median_val)\n",
    "std_val = np.std(arr)\n",
    "print(\"standard deviation\")\n",
    "min_index = np.argmin(arr)\n",
    "max_index = np.argmax(arr)\n",
    "print(\"index of smallest value:\", min_index)\n",
    "print(\"index of largest value:\", max_index)\n",
    "print(\"smallest value from index:\", arr[min_index])\n",
    "print(\"largest value from index:\", arr[max_index])\n",
    "min_val = np.min(arr)\n",
    "max_val = np.max(arr)\n",
    "print(\"np.min() value:\", min_val)\n",
    "print(\"np.max() value:\", max_val)\n",
    "print(\"do they match:\", (min_val == arr[min_index]) and (max_val == arr[max_index]))\n",
    "greater_than_20 = arr[arr > 20]\n",
    "print(\"values greater than 20:\", greater_than_20)"
   ]
  },
  {
   "cell_type": "code",
   "execution_count": 8,
   "id": "29d3e9b5-a51b-42ba-8ed5-88fbd62097b2",
   "metadata": {},
   "outputs": [
    {
     "name": "stdout",
     "output_type": "stream",
     "text": [
      "shape: (3, 4)\n",
      "rows: 3\n",
      "columns: 4\n",
      "third column: [17 14 19]\n",
      "second row: [ 8 21 14  3]\n",
      "matrix x2: [[10 24 34 18]\n",
      " [16 42 28  6]\n",
      " [12 26 38 22]]\n",
      "column means: [ 6.33333333 15.33333333 16.66666667  7.66666667]\n",
      "overall mean: 11.5\n",
      "row maxes: [17 21 19]\n",
      "column mins: [ 5 12 14  3]\n",
      "flattened array: [ 5 12 17  9  8 21 14  3  6 13 19 11]\n",
      "new shape: (12,)\n",
      "flat index of min: 7\n",
      "flat index of max: 5\n",
      "min coords: (np.int64(1), np.int64(3))\n",
      "max coords: (np.int64(1), np.int64(1))\n",
      "values > 15: [17 21 19]\n",
      "row sorted matrix: [[ 5  9 12 17]\n",
      " [ 3  8 14 21]\n",
      " [ 6 11 13 19]]\n"
     ]
    }
   ],
   "source": [
    "import numpy as np\n",
    "matrix = np.array([[5,12,17,9],[8, 21, 14, 3],[6, 13, 19, 11]])\n",
    "print(\"shape:\", matrix.shape)\n",
    "print(\"rows:\", matrix.shape[0])\n",
    "print(\"columns:\", matrix.shape[1])\n",
    "print(\"third column:\", matrix[:,2])\n",
    "print(\"second row:\", matrix[1])\n",
    "print(\"matrix x2:\", matrix*2)\n",
    "print(\"column means:\", np.mean(matrix, axis = 0))\n",
    "print(\"overall mean:\", np.mean(matrix))\n",
    "print(\"row maxes:\", np.max(matrix, axis=1))\n",
    "print(\"column mins:\", np.min(matrix, axis=0))\n",
    "flat = matrix.flatten()\n",
    "print(\"flattened array:\", flat)\n",
    "print(\"new shape:\", flat.shape)\n",
    "min_index = np.argmin(flat)\n",
    "max_index = np.argmax(flat)\n",
    "print(\"flat index of min:\", min_index)\n",
    "print(\"flat index of max:\", max_index)\n",
    "min_coords = np.unravel_index(min_index, matrix.shape)\n",
    "max_coords = np.unravel_index(max_index, matrix.shape)\n",
    "print(\"min coords:\", min_coords)\n",
    "print(\"max coords:\", max_coords)\n",
    "greater_than_15 = matrix[matrix > 15]\n",
    "print(\"values > 15:\", greater_than_15)\n",
    "sorted_matrix = np.sort(matrix, axis=1)\n",
    "print(\"row sorted matrix:\", sorted_matrix)"
   ]
  },
  {
   "cell_type": "code",
   "execution_count": 11,
   "id": "d3f0063b-421a-40ce-942c-6450fbe54af4",
   "metadata": {},
   "outputs": [
    {
     "name": "stdout",
     "output_type": "stream",
     "text": [
      "[[ 2  3  5]\n",
      " [11 13 17]\n",
      " [ 7 10 13]]\n"
     ]
    }
   ],
   "source": [
    "import numpy as np\n",
    "def is_prime(n):\n",
    "    if n<2:\n",
    "        return False\n",
    "    for i in range(2, int(n**0.5)+1):\n",
    "        if n % i == 0:\n",
    "            return False\n",
    "    return True\n",
    "def rows_with_primes(arr):\n",
    "    result = []\n",
    "    for row in arr:\n",
    "        if any(is_prime(val) for val in row):\n",
    "            result.append(row)\n",
    "    return np.array(result)\n",
    "arr = np.array([\n",
    "    [2, 3, 5],\n",
    "    [14, 6, 8],\n",
    "    [11, 13, 17],\n",
    "    [7, 10, 13]\n",
    "])\n",
    "filtered = rows_with_primes(arr)\n",
    "print(filtered)"
   ]
  },
  {
   "cell_type": "code",
   "execution_count": 12,
   "id": "72fb13a8-0638-4228-bfdf-ccf94f28c4ae",
   "metadata": {},
   "outputs": [
    {
     "name": "stdout",
     "output_type": "stream",
     "text": [
      "[[1 0 1 0 1 0 1 0]\n",
      " [0 1 0 1 0 1 0 1]\n",
      " [1 0 1 0 1 0 1 0]\n",
      " [0 1 0 1 0 1 0 1]\n",
      " [1 0 1 0 1 0 1 0]\n",
      " [0 1 0 1 0 1 0 1]\n",
      " [1 0 1 0 1 0 1 0]\n",
      " [0 1 0 1 0 1 0 1]]\n"
     ]
    }
   ],
   "source": [
    "import numpy as np\n",
    "def checkerboard():\n",
    "    board = np.zeros((8,8), dtype=int)\n",
    "    for i in range(8):\n",
    "        if i % 2 == 0:\n",
    "            board[i] = [1 if j % 2 == 0 else 0 for j in range(8)]\n",
    "        else:\n",
    "            board[i] = [0 if j % 2 == 0 else 1 for j in range(8)]\n",
    "    return board\n",
    "print(checkerboard())"
   ]
  },
  {
   "cell_type": "code",
   "execution_count": 13,
   "id": "a1129115-3fcc-4873-abb1-9a25a4cd4fb4",
   "metadata": {},
   "outputs": [
    {
     "name": "stdout",
     "output_type": "stream",
     "text": [
      "[[0 1 0 1 0 1 0 1]\n",
      " [1 0 1 0 1 0 1 0]\n",
      " [0 1 0 1 0 1 0 1]\n",
      " [1 0 1 0 1 0 1 0]\n",
      " [0 1 0 1 0 1 0 1]\n",
      " [1 0 1 0 1 0 1 0]\n",
      " [0 1 0 1 0 1 0 1]\n",
      " [1 0 1 0 1 0 1 0]]\n"
     ]
    }
   ],
   "source": [
    "import numpy as np\n",
    "def reverse_checkerboard():\n",
    "    board = np.zeros((8,8), dtype=int)\n",
    "    for i in range(8):\n",
    "        if i % 2 == 0:\n",
    "            board[i] = [0 if j % 2 == 0 else 1 for j in range(8)]\n",
    "        else:\n",
    "            board[i] = [1 if j % 2 == 0 else 0 for j in range(8)]\n",
    "    return board\n",
    "print(reverse_checkerboard())"
   ]
  },
  {
   "cell_type": "code",
   "execution_count": 21,
   "id": "72141cb0-11b1-45c0-aa38-487223f8fc32",
   "metadata": {},
   "outputs": [
    {
     "name": "stdout",
     "output_type": "stream",
     "text": [
      "['g a l a x y' 'c l u s t e r s']\n",
      "['g  a  l  a  x  y' 'c  l  u  s  t  e  r  s']\n"
     ]
    }
   ],
   "source": [
    "import numpy as np\n",
    "def expansion(arr, num_space):\n",
    "    spacer = ' ' * num_space\n",
    "    return np.array([spacer.join(str(word)) for word in arr])\n",
    "universe = np.array(['galaxy','clusters'])\n",
    "print(expansion(universe, 1))\n",
    "print(expansion(universe, 2))"
   ]
  },
  {
   "cell_type": "code",
   "execution_count": 22,
   "id": "25aacc0b-b7e9-43bf-9169-adca3e3e85ec",
   "metadata": {},
   "outputs": [
    {
     "name": "stdout",
     "output_type": "stream",
     "text": [
      "star clusters: [[1889 1906 1846 1622 1541]\n",
      " [ 606 1647 1738  596  613]\n",
      " [1138  547  573 1442  724]\n",
      " [ 611 1933 1863 1346 1777]\n",
      " [ 920 1108 1732 1592  951]]\n",
      "second brightest stars: [1889 1647 1138 1863 1592]\n"
     ]
    }
   ],
   "source": [
    "import numpy as np\n",
    "def seconddimmest(arr):\n",
    "    return np.sort(arr, axis=1)[:, -2]\n",
    "np.random.seed(123)\n",
    "stars = np.random.randint(500,2000, (5,5))\n",
    "print(\"star clusters:\", stars)\n",
    "print(\"second brightest stars:\", seconddimmest(stars))"
   ]
  },
  {
   "cell_type": "code",
   "execution_count": null,
   "id": "9cebeaee-e71b-4220-a375-2db6ebcefdae",
   "metadata": {},
   "outputs": [],
   "source": []
  }
 ],
 "metadata": {
  "kernelspec": {
   "display_name": "Python 3 (ipykernel)",
   "language": "python",
   "name": "python3"
  },
  "language_info": {
   "codemirror_mode": {
    "name": "ipython",
    "version": 3
   },
   "file_extension": ".py",
   "mimetype": "text/x-python",
   "name": "python",
   "nbconvert_exporter": "python",
   "pygments_lexer": "ipython3",
   "version": "3.13.9"
  }
 },
 "nbformat": 4,
 "nbformat_minor": 5
}
