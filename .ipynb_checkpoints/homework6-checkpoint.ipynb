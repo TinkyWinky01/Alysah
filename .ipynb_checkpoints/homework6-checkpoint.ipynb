{
 "cells": [
  {
   "cell_type": "code",
   "execution_count": null,
   "id": "d26aba76-2f5c-419c-b70c-24959b00f589",
   "metadata": {},
   "outputs": [],
   "source": [
    "import numpy as np\n",
    "list = [20,27,9,12,31,17,4,50,39,35]\n",
    "arr = np.array(lst)\n",
    "print(\"Original array:\", arr)\n",
    "arr_times4 = arr * 4\n",
    "print(\"\\nArray multiplied by 4:\", arr_times4)\n"
   ]
  }
 ],
 "metadata": {
  "kernelspec": {
   "display_name": "Python 3 (ipykernel)",
   "language": "python",
   "name": "python3"
  },
  "language_info": {
   "codemirror_mode": {
    "name": "ipython",
    "version": 3
   },
   "file_extension": ".py",
   "mimetype": "text/x-python",
   "name": "python",
   "nbconvert_exporter": "python",
   "pygments_lexer": "ipython3",
   "version": "3.13.9"
  }
 },
 "nbformat": 4,
 "nbformat_minor": 5
}
